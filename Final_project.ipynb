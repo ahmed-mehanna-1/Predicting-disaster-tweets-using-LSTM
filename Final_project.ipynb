{
  "cells": [
    {
      "cell_type": "markdown",
      "id": "454ea883",
      "metadata": {
        "id": "454ea883"
      },
      "source": [
        "### Importing Libraries"
      ]
    },
    {
      "cell_type": "code",
      "execution_count": 1,
      "id": "9abe1005",
      "metadata": {
        "colab": {
          "base_uri": "https://localhost:8080/"
        },
        "id": "9abe1005",
        "outputId": "543df57e-fcb9-4c5f-c8c7-7f86a16d3b58"
      },
      "outputs": [
        {
          "output_type": "stream",
          "name": "stdout",
          "text": [
            "[nltk_data] Downloading package stopwords to /root/nltk_data...\n",
            "[nltk_data]   Package stopwords is already up-to-date!\n"
          ]
        },
        {
          "output_type": "execute_result",
          "data": {
            "text/plain": [
              "True"
            ]
          },
          "metadata": {},
          "execution_count": 1
        }
      ],
      "source": [
        "import pandas as pd\n",
        "import seaborn as sns \n",
        "import matplotlib.pyplot as plt\n",
        "from collections import Counter\n",
        "import nltk\n",
        "from nltk.corpus import stopwords\n",
        "from sklearn.model_selection import train_test_split\n",
        "import tensorflow.keras as keras \n",
        "from tensorflow.keras.preprocessing.text import Tokenizer\n",
        "from tensorflow.keras.models import Sequential\n",
        "from tensorflow.keras.layers import Embedding, LSTM, Dense \n",
        "\n",
        "nltk.download('stopwords')"
      ]
    },
    {
      "cell_type": "markdown",
      "id": "4c36a53a",
      "metadata": {
        "id": "4c36a53a"
      },
      "source": [
        "### 1. Load the dataset"
      ]
    },
    {
      "cell_type": "code",
      "execution_count": 2,
      "id": "cc5d67b0",
      "metadata": {
        "id": "cc5d67b0"
      },
      "outputs": [],
      "source": [
        "df = pd.read_csv('/content/drive/MyDrive/AMIT Graduation Project/train.csv')"
      ]
    },
    {
      "cell_type": "markdown",
      "id": "06d04c17",
      "metadata": {
        "id": "06d04c17"
      },
      "source": [
        "### 2. Check head and info of the data"
      ]
    },
    {
      "cell_type": "code",
      "source": [
        "df.head(100)"
      ],
      "metadata": {
        "colab": {
          "base_uri": "https://localhost:8080/",
          "height": 424
        },
        "id": "UJnnUrxLI5Ln",
        "outputId": "a0ce0115-5716-4acd-8359-7282e8aff845"
      },
      "id": "UJnnUrxLI5Ln",
      "execution_count": 3,
      "outputs": [
        {
          "output_type": "execute_result",
          "data": {
            "text/plain": [
              "     id   keyword              location  \\\n",
              "0     1       NaN                   NaN   \n",
              "1     4       NaN                   NaN   \n",
              "2     5       NaN                   NaN   \n",
              "3     6       NaN                   NaN   \n",
              "4     7       NaN                   NaN   \n",
              "..  ...       ...                   ...   \n",
              "95  137  accident             Charlotte   \n",
              "96  138  accident       Baton Rouge, LA   \n",
              "97  139  accident        Hagerstown, MD   \n",
              "98  141  accident  Gloucestershire , UK   \n",
              "99  143  accident                   NaN   \n",
              "\n",
              "                                                 text  target  \n",
              "0   Our Deeds are the Reason of this #earthquake M...       1  \n",
              "1              Forest fire near La Ronge Sask. Canada       1  \n",
              "2   All residents asked to 'shelter in place' are ...       1  \n",
              "3   13,000 people receive #wildfires evacuation or...       1  \n",
              "4   Just got sent this photo from Ruby #Alaska as ...       1  \n",
              "..                                                ...     ...  \n",
              "95  9 Mile backup on I-77 South...accident blockin...       1  \n",
              "96  Has an accident changed your life? We will hel...       0  \n",
              "97  #BREAKING: there was a deadly motorcycle car a...       1  \n",
              "98  @flowri were you marinading it or was it an ac...       0  \n",
              "99  only had a car for not even a week and got in ...       1  \n",
              "\n",
              "[100 rows x 5 columns]"
            ],
            "text/html": [
              "\n",
              "  <div id=\"df-e4a69c07-ceb9-437b-a21d-3621c5978f93\">\n",
              "    <div class=\"colab-df-container\">\n",
              "      <div>\n",
              "<style scoped>\n",
              "    .dataframe tbody tr th:only-of-type {\n",
              "        vertical-align: middle;\n",
              "    }\n",
              "\n",
              "    .dataframe tbody tr th {\n",
              "        vertical-align: top;\n",
              "    }\n",
              "\n",
              "    .dataframe thead th {\n",
              "        text-align: right;\n",
              "    }\n",
              "</style>\n",
              "<table border=\"1\" class=\"dataframe\">\n",
              "  <thead>\n",
              "    <tr style=\"text-align: right;\">\n",
              "      <th></th>\n",
              "      <th>id</th>\n",
              "      <th>keyword</th>\n",
              "      <th>location</th>\n",
              "      <th>text</th>\n",
              "      <th>target</th>\n",
              "    </tr>\n",
              "  </thead>\n",
              "  <tbody>\n",
              "    <tr>\n",
              "      <th>0</th>\n",
              "      <td>1</td>\n",
              "      <td>NaN</td>\n",
              "      <td>NaN</td>\n",
              "      <td>Our Deeds are the Reason of this #earthquake M...</td>\n",
              "      <td>1</td>\n",
              "    </tr>\n",
              "    <tr>\n",
              "      <th>1</th>\n",
              "      <td>4</td>\n",
              "      <td>NaN</td>\n",
              "      <td>NaN</td>\n",
              "      <td>Forest fire near La Ronge Sask. Canada</td>\n",
              "      <td>1</td>\n",
              "    </tr>\n",
              "    <tr>\n",
              "      <th>2</th>\n",
              "      <td>5</td>\n",
              "      <td>NaN</td>\n",
              "      <td>NaN</td>\n",
              "      <td>All residents asked to 'shelter in place' are ...</td>\n",
              "      <td>1</td>\n",
              "    </tr>\n",
              "    <tr>\n",
              "      <th>3</th>\n",
              "      <td>6</td>\n",
              "      <td>NaN</td>\n",
              "      <td>NaN</td>\n",
              "      <td>13,000 people receive #wildfires evacuation or...</td>\n",
              "      <td>1</td>\n",
              "    </tr>\n",
              "    <tr>\n",
              "      <th>4</th>\n",
              "      <td>7</td>\n",
              "      <td>NaN</td>\n",
              "      <td>NaN</td>\n",
              "      <td>Just got sent this photo from Ruby #Alaska as ...</td>\n",
              "      <td>1</td>\n",
              "    </tr>\n",
              "    <tr>\n",
              "      <th>...</th>\n",
              "      <td>...</td>\n",
              "      <td>...</td>\n",
              "      <td>...</td>\n",
              "      <td>...</td>\n",
              "      <td>...</td>\n",
              "    </tr>\n",
              "    <tr>\n",
              "      <th>95</th>\n",
              "      <td>137</td>\n",
              "      <td>accident</td>\n",
              "      <td>Charlotte</td>\n",
              "      <td>9 Mile backup on I-77 South...accident blockin...</td>\n",
              "      <td>1</td>\n",
              "    </tr>\n",
              "    <tr>\n",
              "      <th>96</th>\n",
              "      <td>138</td>\n",
              "      <td>accident</td>\n",
              "      <td>Baton Rouge, LA</td>\n",
              "      <td>Has an accident changed your life? We will hel...</td>\n",
              "      <td>0</td>\n",
              "    </tr>\n",
              "    <tr>\n",
              "      <th>97</th>\n",
              "      <td>139</td>\n",
              "      <td>accident</td>\n",
              "      <td>Hagerstown, MD</td>\n",
              "      <td>#BREAKING: there was a deadly motorcycle car a...</td>\n",
              "      <td>1</td>\n",
              "    </tr>\n",
              "    <tr>\n",
              "      <th>98</th>\n",
              "      <td>141</td>\n",
              "      <td>accident</td>\n",
              "      <td>Gloucestershire , UK</td>\n",
              "      <td>@flowri were you marinading it or was it an ac...</td>\n",
              "      <td>0</td>\n",
              "    </tr>\n",
              "    <tr>\n",
              "      <th>99</th>\n",
              "      <td>143</td>\n",
              "      <td>accident</td>\n",
              "      <td>NaN</td>\n",
              "      <td>only had a car for not even a week and got in ...</td>\n",
              "      <td>1</td>\n",
              "    </tr>\n",
              "  </tbody>\n",
              "</table>\n",
              "<p>100 rows × 5 columns</p>\n",
              "</div>\n",
              "      <button class=\"colab-df-convert\" onclick=\"convertToInteractive('df-e4a69c07-ceb9-437b-a21d-3621c5978f93')\"\n",
              "              title=\"Convert this dataframe to an interactive table.\"\n",
              "              style=\"display:none;\">\n",
              "        \n",
              "  <svg xmlns=\"http://www.w3.org/2000/svg\" height=\"24px\"viewBox=\"0 0 24 24\"\n",
              "       width=\"24px\">\n",
              "    <path d=\"M0 0h24v24H0V0z\" fill=\"none\"/>\n",
              "    <path d=\"M18.56 5.44l.94 2.06.94-2.06 2.06-.94-2.06-.94-.94-2.06-.94 2.06-2.06.94zm-11 1L8.5 8.5l.94-2.06 2.06-.94-2.06-.94L8.5 2.5l-.94 2.06-2.06.94zm10 10l.94 2.06.94-2.06 2.06-.94-2.06-.94-.94-2.06-.94 2.06-2.06.94z\"/><path d=\"M17.41 7.96l-1.37-1.37c-.4-.4-.92-.59-1.43-.59-.52 0-1.04.2-1.43.59L10.3 9.45l-7.72 7.72c-.78.78-.78 2.05 0 2.83L4 21.41c.39.39.9.59 1.41.59.51 0 1.02-.2 1.41-.59l7.78-7.78 2.81-2.81c.8-.78.8-2.07 0-2.86zM5.41 20L4 18.59l7.72-7.72 1.47 1.35L5.41 20z\"/>\n",
              "  </svg>\n",
              "      </button>\n",
              "      \n",
              "  <style>\n",
              "    .colab-df-container {\n",
              "      display:flex;\n",
              "      flex-wrap:wrap;\n",
              "      gap: 12px;\n",
              "    }\n",
              "\n",
              "    .colab-df-convert {\n",
              "      background-color: #E8F0FE;\n",
              "      border: none;\n",
              "      border-radius: 50%;\n",
              "      cursor: pointer;\n",
              "      display: none;\n",
              "      fill: #1967D2;\n",
              "      height: 32px;\n",
              "      padding: 0 0 0 0;\n",
              "      width: 32px;\n",
              "    }\n",
              "\n",
              "    .colab-df-convert:hover {\n",
              "      background-color: #E2EBFA;\n",
              "      box-shadow: 0px 1px 2px rgba(60, 64, 67, 0.3), 0px 1px 3px 1px rgba(60, 64, 67, 0.15);\n",
              "      fill: #174EA6;\n",
              "    }\n",
              "\n",
              "    [theme=dark] .colab-df-convert {\n",
              "      background-color: #3B4455;\n",
              "      fill: #D2E3FC;\n",
              "    }\n",
              "\n",
              "    [theme=dark] .colab-df-convert:hover {\n",
              "      background-color: #434B5C;\n",
              "      box-shadow: 0px 1px 3px 1px rgba(0, 0, 0, 0.15);\n",
              "      filter: drop-shadow(0px 1px 2px rgba(0, 0, 0, 0.3));\n",
              "      fill: #FFFFFF;\n",
              "    }\n",
              "  </style>\n",
              "\n",
              "      <script>\n",
              "        const buttonEl =\n",
              "          document.querySelector('#df-e4a69c07-ceb9-437b-a21d-3621c5978f93 button.colab-df-convert');\n",
              "        buttonEl.style.display =\n",
              "          google.colab.kernel.accessAllowed ? 'block' : 'none';\n",
              "\n",
              "        async function convertToInteractive(key) {\n",
              "          const element = document.querySelector('#df-e4a69c07-ceb9-437b-a21d-3621c5978f93');\n",
              "          const dataTable =\n",
              "            await google.colab.kernel.invokeFunction('convertToInteractive',\n",
              "                                                     [key], {});\n",
              "          if (!dataTable) return;\n",
              "\n",
              "          const docLinkHtml = 'Like what you see? Visit the ' +\n",
              "            '<a target=\"_blank\" href=https://colab.research.google.com/notebooks/data_table.ipynb>data table notebook</a>'\n",
              "            + ' to learn more about interactive tables.';\n",
              "          element.innerHTML = '';\n",
              "          dataTable['output_type'] = 'display_data';\n",
              "          await google.colab.output.renderOutput(dataTable, element);\n",
              "          const docLink = document.createElement('div');\n",
              "          docLink.innerHTML = docLinkHtml;\n",
              "          element.appendChild(docLink);\n",
              "        }\n",
              "      </script>\n",
              "    </div>\n",
              "  </div>\n",
              "  "
            ]
          },
          "metadata": {},
          "execution_count": 3
        }
      ]
    },
    {
      "cell_type": "code",
      "execution_count": 4,
      "id": "a261c515",
      "metadata": {
        "colab": {
          "base_uri": "https://localhost:8080/"
        },
        "id": "a261c515",
        "outputId": "b4d54947-3b25-4187-e7a5-e7d8a11a0af8"
      },
      "outputs": [
        {
          "output_type": "stream",
          "name": "stdout",
          "text": [
            "<class 'pandas.core.frame.DataFrame'>\n",
            "RangeIndex: 7613 entries, 0 to 7612\n",
            "Data columns (total 5 columns):\n",
            " #   Column    Non-Null Count  Dtype \n",
            "---  ------    --------------  ----- \n",
            " 0   id        7613 non-null   int64 \n",
            " 1   keyword   7552 non-null   object\n",
            " 2   location  5080 non-null   object\n",
            " 3   text      7613 non-null   object\n",
            " 4   target    7613 non-null   int64 \n",
            "dtypes: int64(2), object(3)\n",
            "memory usage: 297.5+ KB\n"
          ]
        }
      ],
      "source": [
        "df.info()"
      ]
    },
    {
      "cell_type": "markdown",
      "id": "9b729397",
      "metadata": {
        "id": "9b729397"
      },
      "source": [
        "### 3. Is there a missing data [how many and the percentage if there]?"
      ]
    },
    {
      "cell_type": "code",
      "execution_count": 5,
      "id": "6ab162d5",
      "metadata": {
        "colab": {
          "base_uri": "https://localhost:8080/",
          "height": 206
        },
        "id": "6ab162d5",
        "outputId": "07dbf90b-7f11-43bf-dfe7-4b93e0cfeff8"
      },
      "outputs": [
        {
          "output_type": "execute_result",
          "data": {
            "text/plain": [
              "          count  Percentage\n",
              "id            0    0.000000\n",
              "keyword      61    0.801261\n",
              "location   2533   33.272035\n",
              "text          0    0.000000\n",
              "target        0    0.000000"
            ],
            "text/html": [
              "\n",
              "  <div id=\"df-dd482999-095b-4ce3-9bdc-a07496a286e8\">\n",
              "    <div class=\"colab-df-container\">\n",
              "      <div>\n",
              "<style scoped>\n",
              "    .dataframe tbody tr th:only-of-type {\n",
              "        vertical-align: middle;\n",
              "    }\n",
              "\n",
              "    .dataframe tbody tr th {\n",
              "        vertical-align: top;\n",
              "    }\n",
              "\n",
              "    .dataframe thead th {\n",
              "        text-align: right;\n",
              "    }\n",
              "</style>\n",
              "<table border=\"1\" class=\"dataframe\">\n",
              "  <thead>\n",
              "    <tr style=\"text-align: right;\">\n",
              "      <th></th>\n",
              "      <th>count</th>\n",
              "      <th>Percentage</th>\n",
              "    </tr>\n",
              "  </thead>\n",
              "  <tbody>\n",
              "    <tr>\n",
              "      <th>id</th>\n",
              "      <td>0</td>\n",
              "      <td>0.000000</td>\n",
              "    </tr>\n",
              "    <tr>\n",
              "      <th>keyword</th>\n",
              "      <td>61</td>\n",
              "      <td>0.801261</td>\n",
              "    </tr>\n",
              "    <tr>\n",
              "      <th>location</th>\n",
              "      <td>2533</td>\n",
              "      <td>33.272035</td>\n",
              "    </tr>\n",
              "    <tr>\n",
              "      <th>text</th>\n",
              "      <td>0</td>\n",
              "      <td>0.000000</td>\n",
              "    </tr>\n",
              "    <tr>\n",
              "      <th>target</th>\n",
              "      <td>0</td>\n",
              "      <td>0.000000</td>\n",
              "    </tr>\n",
              "  </tbody>\n",
              "</table>\n",
              "</div>\n",
              "      <button class=\"colab-df-convert\" onclick=\"convertToInteractive('df-dd482999-095b-4ce3-9bdc-a07496a286e8')\"\n",
              "              title=\"Convert this dataframe to an interactive table.\"\n",
              "              style=\"display:none;\">\n",
              "        \n",
              "  <svg xmlns=\"http://www.w3.org/2000/svg\" height=\"24px\"viewBox=\"0 0 24 24\"\n",
              "       width=\"24px\">\n",
              "    <path d=\"M0 0h24v24H0V0z\" fill=\"none\"/>\n",
              "    <path d=\"M18.56 5.44l.94 2.06.94-2.06 2.06-.94-2.06-.94-.94-2.06-.94 2.06-2.06.94zm-11 1L8.5 8.5l.94-2.06 2.06-.94-2.06-.94L8.5 2.5l-.94 2.06-2.06.94zm10 10l.94 2.06.94-2.06 2.06-.94-2.06-.94-.94-2.06-.94 2.06-2.06.94z\"/><path d=\"M17.41 7.96l-1.37-1.37c-.4-.4-.92-.59-1.43-.59-.52 0-1.04.2-1.43.59L10.3 9.45l-7.72 7.72c-.78.78-.78 2.05 0 2.83L4 21.41c.39.39.9.59 1.41.59.51 0 1.02-.2 1.41-.59l7.78-7.78 2.81-2.81c.8-.78.8-2.07 0-2.86zM5.41 20L4 18.59l7.72-7.72 1.47 1.35L5.41 20z\"/>\n",
              "  </svg>\n",
              "      </button>\n",
              "      \n",
              "  <style>\n",
              "    .colab-df-container {\n",
              "      display:flex;\n",
              "      flex-wrap:wrap;\n",
              "      gap: 12px;\n",
              "    }\n",
              "\n",
              "    .colab-df-convert {\n",
              "      background-color: #E8F0FE;\n",
              "      border: none;\n",
              "      border-radius: 50%;\n",
              "      cursor: pointer;\n",
              "      display: none;\n",
              "      fill: #1967D2;\n",
              "      height: 32px;\n",
              "      padding: 0 0 0 0;\n",
              "      width: 32px;\n",
              "    }\n",
              "\n",
              "    .colab-df-convert:hover {\n",
              "      background-color: #E2EBFA;\n",
              "      box-shadow: 0px 1px 2px rgba(60, 64, 67, 0.3), 0px 1px 3px 1px rgba(60, 64, 67, 0.15);\n",
              "      fill: #174EA6;\n",
              "    }\n",
              "\n",
              "    [theme=dark] .colab-df-convert {\n",
              "      background-color: #3B4455;\n",
              "      fill: #D2E3FC;\n",
              "    }\n",
              "\n",
              "    [theme=dark] .colab-df-convert:hover {\n",
              "      background-color: #434B5C;\n",
              "      box-shadow: 0px 1px 3px 1px rgba(0, 0, 0, 0.15);\n",
              "      filter: drop-shadow(0px 1px 2px rgba(0, 0, 0, 0.3));\n",
              "      fill: #FFFFFF;\n",
              "    }\n",
              "  </style>\n",
              "\n",
              "      <script>\n",
              "        const buttonEl =\n",
              "          document.querySelector('#df-dd482999-095b-4ce3-9bdc-a07496a286e8 button.colab-df-convert');\n",
              "        buttonEl.style.display =\n",
              "          google.colab.kernel.accessAllowed ? 'block' : 'none';\n",
              "\n",
              "        async function convertToInteractive(key) {\n",
              "          const element = document.querySelector('#df-dd482999-095b-4ce3-9bdc-a07496a286e8');\n",
              "          const dataTable =\n",
              "            await google.colab.kernel.invokeFunction('convertToInteractive',\n",
              "                                                     [key], {});\n",
              "          if (!dataTable) return;\n",
              "\n",
              "          const docLinkHtml = 'Like what you see? Visit the ' +\n",
              "            '<a target=\"_blank\" href=https://colab.research.google.com/notebooks/data_table.ipynb>data table notebook</a>'\n",
              "            + ' to learn more about interactive tables.';\n",
              "          element.innerHTML = '';\n",
              "          dataTable['output_type'] = 'display_data';\n",
              "          await google.colab.output.renderOutput(dataTable, element);\n",
              "          const docLink = document.createElement('div');\n",
              "          docLink.innerHTML = docLinkHtml;\n",
              "          element.appendChild(docLink);\n",
              "        }\n",
              "      </script>\n",
              "    </div>\n",
              "  </div>\n",
              "  "
            ]
          },
          "metadata": {},
          "execution_count": 5
        }
      ],
      "source": [
        "null_data = df.isnull()\n",
        "\n",
        "missing_data = {\n",
        "    \"count\": null_data.sum(),\n",
        "    \"Percentage\": null_data.mean() * 100    # Mean is the summation over the length,\n",
        "    # \"Percentage\": (null_data.sum() / len(df)) * 100\n",
        "}\n",
        "\n",
        "pd.DataFrame(data=missing_data)"
      ]
    },
    {
      "cell_type": "markdown",
      "id": "d0489400",
      "metadata": {
        "id": "d0489400"
      },
      "source": [
        "### 4. How many data in each class?"
      ]
    },
    {
      "cell_type": "code",
      "execution_count": 6,
      "id": "2dbfb07e",
      "metadata": {
        "colab": {
          "base_uri": "https://localhost:8080/",
          "height": 308
        },
        "id": "2dbfb07e",
        "outputId": "b76855a3-3d80-408f-d19c-6102c3bdf99f"
      },
      "outputs": [
        {
          "output_type": "display_data",
          "data": {
            "text/plain": [
              "<Figure size 432x288 with 1 Axes>"
            ],
            "image/png": "[encoded data removed]"
          },
          "metadata": {
            "needs_background": "light"
          }
        }
      ],
      "source": [
        "# This function in Seaborn library is to plot the count of a specific colomn in df\n",
        "\n",
        "sns.countplot(x='target', data=df)\n",
        "\n",
        "plt.suptitle('Class Distribution')\n",
        "plt.show()"
      ]
    },
    {
      "cell_type": "markdown",
      "id": "6441fe9e",
      "metadata": {
        "id": "6441fe9e"
      },
      "source": [
        "### 5. Get the top 15 locations of the data"
      ]
    },
    {
      "cell_type": "code",
      "execution_count": 41,
      "id": "f3a1400a",
      "metadata": {
        "colab": {
          "base_uri": "https://localhost:8080/",
          "height": 677
        },
        "id": "f3a1400a",
        "outputId": "e7bc32c2-dd55-4a56-d260-cebb38a9a4ae"
      },
      "outputs": [
        {
          "output_type": "display_data",
          "data": {
            "text/plain": [
              "<Figure size 1440x720 with 2 Axes>"
            ],
            "image/png": "[encoded data removed]"
          },
          "metadata": {
            "needs_background": "light"
          }
        }
      ],
      "source": [
        "disaster_count = df[df['target']==1]['location'].value_counts()[:15]\n",
        "none_disaster_count = df[df['target']==0]['location'].value_counts()[:15]\n",
        "\n",
        "fig, ax = plt.subplots(ncols=2, nrows=1, figsize=(20,10))\n",
        "\n",
        "sns.barplot(y=disaster_count.values, x=disaster_count.index, ax=ax[0])\n",
        "ax[0].set(ylabel='count', xlabel='locations', title='Disaster Tweets')\n",
        "\n",
        "sns.barplot(y=none_disaster_count.values, x=none_disaster_count.index, ax=ax[1])\n",
        "ax[1].set(ylabel='count', xlabel='locations', title='Non Disaster Tweets')\n",
        "\n",
        "plt.suptitle('Top 15 Locations')\n",
        "plt.show()"
      ]
    },
    {
      "cell_type": "markdown",
      "id": "0f61224a",
      "metadata": {
        "id": "0f61224a"
      },
      "source": [
        "### 6. Get the top 15 keyword in the data"
      ]
    },
    {
      "cell_type": "code",
      "execution_count": 39,
      "id": "262416b0",
      "metadata": {
        "colab": {
          "base_uri": "https://localhost:8080/",
          "height": 677
        },
        "id": "262416b0",
        "outputId": "4b0c9315-bad9-42fe-ddd8-180bf999f4c8"
      },
      "outputs": [
        {
          "output_type": "display_data",
          "data": {
            "text/plain": [
              "<Figure size 1440x720 with 2 Axes>"
            ],
            "image/png": "[encoded data removed]"
          },
          "metadata": {
            "needs_background": "light"
          }
        }
      ],
      "source": [
        "disaster_count = df[df['target']==1]['keyword'].value_counts()[:15]\n",
        "none_disaster_count = df[df['target']==0]['keyword'].value_counts()[:15]\n",
        "\n",
        "fig, ax = plt.subplots(ncols=2, nrows=1, figsize=(20,10))\n",
        "\n",
        "sns.barplot(y=disaster_count.values, x=disaster_count.index, ax=ax[0])\n",
        "ax[0].set(ylabel='count', xlabel=\"keyword\", title='Disaster Tweets')\n",
        "\n",
        "sns.barplot(y=none_disaster_count.values, x=none_disaster_count.index, ax=ax[1])\n",
        "ax[1].set(ylabel='count', xlabel='keyword', title='Non Disaster Tweets')\n",
        "\n",
        "plt.suptitle('Top 15 Keywords')\n",
        "plt.show()"
      ]
    },
    {
      "cell_type": "markdown",
      "id": "9bc73975",
      "metadata": {
        "id": "9bc73975"
      },
      "source": [
        "### 7. What are the most common words?"
      ]
    },
    {
      "cell_type": "code",
      "execution_count": 12,
      "id": "244f7cd1",
      "metadata": {
        "id": "244f7cd1"
      },
      "outputs": [],
      "source": [
        "def build_corpus(target_column_name, text_column_name, val):\n",
        "    corpus = []\n",
        "    for text in df[df[target_column_name]==val][text_column_name].str.split():\n",
        "        for subtext in text:\n",
        "            corpus.append(subtext)\n",
        "    return corpus\n",
        "\n",
        "corpus_disaster = build_corpus(\"target\", \"text\", 1)\n",
        "corpus_nondisaster = build_corpus(\"target\", \"text\", 0)"
      ]
    },
    {
      "cell_type": "code",
      "execution_count": 38,
      "id": "5120babe",
      "metadata": {
        "colab": {
          "base_uri": "https://localhost:8080/",
          "height": 678
        },
        "id": "5120babe",
        "outputId": "c9fdaa1a-7c00-4053-e058-8353bc426e54"
      },
      "outputs": [
        {
          "output_type": "display_data",
          "data": {
            "text/plain": [
              "<Figure size 1440x720 with 2 Axes>"
            ],
            "image/png": "[encoded data removed]"
          },
          "metadata": {
            "needs_background": "light"
          }
        }
      ],
      "source": [
        "stop_words = stopwords.words('english')\n",
        "\n",
        "def get_most_common_words(corpus, stop_word):\n",
        "    common_words = []\n",
        "    for word in corpus:\n",
        "        if word not in stop_word:\n",
        "            common_words.append(word)\n",
        "    return common_words\n",
        "\n",
        "common_words_disaster = get_most_common_words(corpus_disaster, stop_words)\n",
        "common_words_nondisaster = get_most_common_words(corpus_nondisaster, stop_words)\n",
        "        \n",
        "counter_disaster = Counter(common_words_disaster)\n",
        "counter_nondisaster = Counter(common_words_nondisaster)\n",
        "\n",
        "word_disaster, word_count_disaster = map(list, zip(*counter_disaster.most_common()[:15]))\n",
        "word_nondisaster, word_count_nondisaster = map(list, zip(*counter_nondisaster.most_common()[:15]))\n",
        "\n",
        "fig, ax = plt.subplots(nrows=1, ncols=2, figsize=(20,10))\n",
        "\n",
        "sns.barplot(y=word_count_disaster, x=word_disaster, ax=ax[0])\n",
        "ax[0].set(ylabel='count', xlabel='words', title='Disaster Tweets')\n",
        "\n",
        "sns.barplot(y=word_count_nondisaster, x=word_nondisaster, ax=ax[1])\n",
        "ax[1].set(ylabel='count', xlabel='words', title='Non Disaster Tweets')\n",
        "\n",
        "fig.suptitle('Most Common Words')\n",
        "plt.show()"
      ]
    },
    {
      "cell_type": "markdown",
      "id": "db91d59a",
      "metadata": {
        "id": "db91d59a"
      },
      "source": [
        "### 8. What are the most common stop words?"
      ]
    },
    {
      "cell_type": "code",
      "execution_count": 15,
      "id": "2f710594",
      "metadata": {
        "colab": {
          "base_uri": "https://localhost:8080/",
          "height": 677
        },
        "id": "2f710594",
        "outputId": "a5de5c7a-13af-4288-90e4-d38c16483077"
      },
      "outputs": [
        {
          "output_type": "display_data",
          "data": {
            "text/plain": [
              "<Figure size 1440x720 with 2 Axes>"
            ],
            "image/png": "[encoded data removed]"
          },
          "metadata": {
            "needs_background": "light"
          }
        }
      ],
      "source": [
        "stop_words = stopwords.words('english')\n",
        "\n",
        "def get_most_common_stop_words(corpus, stop_word):\n",
        "    common_words = []\n",
        "    for word in corpus:\n",
        "        if word in stop_word:\n",
        "            common_words.append(word)\n",
        "    return common_words\n",
        "\n",
        "common_words_disaster = get_most_common_stop_words(corpus_disaster, stop_words)\n",
        "common_words_nondisaster = get_most_common_stop_words(corpus_nondisaster, stop_words)\n",
        "        \n",
        "counter_disaster = Counter(common_words_disaster)\n",
        "counter_nondisaster = Counter(common_words_nondisaster)\n",
        "\n",
        "word_disaster, word_count_disaster = map(list, zip(*counter_disaster.most_common()[:15]))\n",
        "word_nondisaster, word_count_nondisaster = map(list, zip(*counter_nondisaster.most_common()[:15]))\n",
        "\n",
        "fig, ax = plt.subplots(nrows=1, ncols=2, figsize=(20,10))\n",
        "\n",
        "sns.barplot(y=word_count_disaster, x=word_disaster, ax=ax[0])\n",
        "ax[0].set(ylabel='count', xlabel='words', title='Disaster Tweets')\n",
        "\n",
        "sns.barplot(y=word_count_nondisaster, x=word_nondisaster, ax=ax[1])\n",
        "ax[1].set(ylabel='count', xlabel='words', title='Non Disaster Tweets')\n",
        "\n",
        "fig.suptitle('Most Common Stop Words')\n",
        "plt.show()"
      ]
    },
    {
      "cell_type": "markdown",
      "id": "7b1465bc",
      "metadata": {
        "id": "7b1465bc"
      },
      "source": [
        "### 9. Use nlp to prepare dataset [tokenization, pad sequence, etc.]"
      ]
    },
    {
      "cell_type": "code",
      "execution_count": 30,
      "id": "a7aaa0d2",
      "metadata": {
        "id": "a7aaa0d2"
      },
      "outputs": [],
      "source": [
        "x_train = pd.read_csv('/content/drive/MyDrive/AMIT Graduation Project/train.csv', usecols=[\"id\", \"text\", \"target\"])\n",
        "x_test = pd.read_csv('/content/drive/MyDrive/AMIT Graduation Project/test.csv', usecols=[\"id\", \"text\"])\n",
        "\n",
        "y_train = x_train['target'].values"
      ]
    },
    {
      "cell_type": "code",
      "execution_count": 31,
      "id": "7aa469d4",
      "metadata": {
        "colab": {
          "base_uri": "https://localhost:8080/"
        },
        "id": "7aa469d4",
        "outputId": "839bcc9b-df3a-4fb1-bffb-ce2ef9875dd0"
      },
      "outputs": [
        {
          "output_type": "stream",
          "name": "stdout",
          "text": [
            "['Our Deeds are the Reason of this #earthquake May ALLAH Forgive us all'\n",
            " 'Forest fire near La Ronge Sask. Canada'\n",
            " \"All residents asked to 'shelter in place' are being notified by officers. No other evacuation or shelter in place orders are expected\"\n",
            " '13,000 people receive #wildfires evacuation orders in California '\n",
            " 'Just got sent this photo from Ruby #Alaska as smoke from #wildfires pours into a school '\n",
            " '#RockyFire Update => California Hwy. 20 closed in both directions due to Lake County fire - #CAfire #wildfires'\n",
            " '#flood #disaster Heavy rain causes flash flooding of streets in Manitou, Colorado Springs areas'\n",
            " \"I'm on top of the hill and I can see a fire in the woods...\"\n",
            " \"There's an emergency evacuation happening now in the building across the street\"\n",
            " \"I'm afraid that the tornado is coming to our area...\"]\n"
          ]
        }
      ],
      "source": [
        "text_train = x_train.text.values\n",
        "text_test = x_test.text.values\n",
        "print(text_train[:10])"
      ]
    },
    {
      "cell_type": "code",
      "execution_count": 32,
      "id": "f89904ca",
      "metadata": {
        "id": "f89904ca"
      },
      "outputs": [],
      "source": [
        "tokenizer = Tokenizer()\n",
        "\n",
        "tokenizer.fit_on_texts(text_train)\n",
        "\n",
        "X_train = tokenizer.texts_to_sequences(text_train)\n",
        "X_test = tokenizer.texts_to_sequences(text_test)"
      ]
    },
    {
      "cell_type": "code",
      "execution_count": 33,
      "id": "79e39d13",
      "metadata": {
        "colab": {
          "base_uri": "https://localhost:8080/"
        },
        "id": "79e39d13",
        "outputId": "0b41f600-b7f7-41f7-c17e-6d2196c8dd67"
      },
      "outputs": [
        {
          "output_type": "stream",
          "name": "stdout",
          "text": [
            "[   0    0    0    0    0    0    0    0    0    0    0    0    0    0\n",
            "    0    0    0    0    0    0  119 4633   24    4  868    8   21  263\n",
            "  138 1619 4634   89   40]\n"
          ]
        }
      ],
      "source": [
        "X_train = keras.preprocessing.sequence.pad_sequences(X_train)\n",
        "X_test = keras.preprocessing.sequence.pad_sequences(X_test)\n",
        "\n",
        "print(X_train[0])"
      ]
    },
    {
      "cell_type": "code",
      "execution_count": 34,
      "id": "de2a2a50",
      "metadata": {
        "colab": {
          "base_uri": "https://localhost:8080/"
        },
        "id": "de2a2a50",
        "outputId": "c574268b-1166-4f98-c4a1-0638cefdc40f"
      },
      "outputs": [
        {
          "output_type": "stream",
          "name": "stdout",
          "text": [
            "Vocabulary Size: 22700\n"
          ]
        }
      ],
      "source": [
        "vocab_size = len(tokenizer.word_index)\n",
        "print('Vocabulary Size:', vocab_size)"
      ]
    },
    {
      "cell_type": "markdown",
      "id": "f8d89818",
      "metadata": {
        "id": "f8d89818"
      },
      "source": [
        "### 10. Prepare train, test sets"
      ]
    },
    {
      "cell_type": "code",
      "execution_count": 35,
      "id": "88778168",
      "metadata": {
        "id": "88778168"
      },
      "outputs": [],
      "source": [
        "x_train, x_val, y_train, y_val = train_test_split(X_train, y_train, test_size=0.2, random_state=42)"
      ]
    },
    {
      "cell_type": "markdown",
      "id": "be12a018",
      "metadata": {
        "id": "be12a018"
      },
      "source": [
        "### 11. Train your LSTM structure"
      ]
    },
    {
      "cell_type": "code",
      "execution_count": 37,
      "id": "c3ca9b98",
      "metadata": {
        "colab": {
          "base_uri": "https://localhost:8080/"
        },
        "id": "c3ca9b98",
        "outputId": "76e97098-8680-4ae9-af89-e7ae7b51c9e5"
      },
      "outputs": [
        {
          "output_type": "stream",
          "name": "stdout",
          "text": [
            "WARNING:tensorflow:Layer lstm_3 will not use cuDNN kernels since it doesn't meet the criteria. It will use a generic GPU kernel as fallback when running on GPU.\n",
            "Model: \"sequential_3\"\n",
            "_________________________________________________________________\n",
            " Layer (type)                Output Shape              Param #   \n",
            "=================================================================\n",
            " embedding_1 (Embedding)     (None, None, 128)         2905600   \n",
            "                                                                 \n",
            " lstm_3 (LSTM)               (None, 256)               394240    \n",
            "                                                                 \n",
            " dense_9 (Dense)             (None, 128)               32896     \n",
            "                                                                 \n",
            " dense_10 (Dense)            (None, 64)                8256      \n",
            "                                                                 \n",
            " dense_11 (Dense)            (None, 1)                 65        \n",
            "                                                                 \n",
            "=================================================================\n",
            "Total params: 3,341,057\n",
            "Trainable params: 3,341,057\n",
            "Non-trainable params: 0\n",
            "_________________________________________________________________\n"
          ]
        }
      ],
      "source": [
        "model = Sequential()\n",
        "model.add(Embedding(input_dim = vocab_size, output_dim = 128))\n",
        "model.add(LSTM(256, activation = 'relu'))\n",
        "model.add(Dense(128, activation = 'relu'))\n",
        "model.add(Dense(64, activation = 'relu'))\n",
        "model.add(Dense(1, activation='relu'))\n",
        "\n",
        "model.summary()"
      ]
    },
    {
      "cell_type": "code",
      "execution_count": 24,
      "id": "66eff6b7",
      "metadata": {
        "colab": {
          "base_uri": "https://localhost:8080/"
        },
        "id": "66eff6b7",
        "outputId": "1461a947-e3fa-4761-f120-41a10d64c36b"
      },
      "outputs": [
        {
          "output_type": "stream",
          "name": "stdout",
          "text": [
            "Epoch 1/25\n",
            "6/6 [==============================] - 3s 111ms/step - loss: 3.2604 - accuracy: 0.5695 - val_loss: 1.1200 - val_accuracy: 0.5739\n",
            "Epoch 2/25\n",
            "6/6 [==============================] - 0s 60ms/step - loss: 0.8945 - accuracy: 0.5601 - val_loss: 0.8693 - val_accuracy: 0.4281\n",
            "Epoch 3/25\n",
            "6/6 [==============================] - 0s 60ms/step - loss: 0.6971 - accuracy: 0.5461 - val_loss: 0.6707 - val_accuracy: 0.5739\n",
            "Epoch 4/25\n",
            "6/6 [==============================] - 0s 58ms/step - loss: 0.6371 - accuracy: 0.5727 - val_loss: 0.6336 - val_accuracy: 0.6113\n",
            "Epoch 5/25\n",
            "6/6 [==============================] - 0s 58ms/step - loss: 0.5684 - accuracy: 0.7722 - val_loss: 0.6078 - val_accuracy: 0.6724\n",
            "Epoch 6/25\n",
            "6/6 [==============================] - 0s 58ms/step - loss: 0.4932 - accuracy: 0.7665 - val_loss: 0.5773 - val_accuracy: 0.6894\n",
            "Epoch 7/25\n",
            "6/6 [==============================] - 0s 59ms/step - loss: 0.3955 - accuracy: 0.8560 - val_loss: 0.5242 - val_accuracy: 0.7452\n",
            "Epoch 8/25\n",
            "6/6 [==============================] - 0s 60ms/step - loss: 0.3190 - accuracy: 0.9054 - val_loss: 0.6297 - val_accuracy: 0.7636\n",
            "Epoch 9/25\n",
            "6/6 [==============================] - 0s 58ms/step - loss: 0.2605 - accuracy: 0.9212 - val_loss: 0.4904 - val_accuracy: 0.7735\n",
            "Epoch 10/25\n",
            "6/6 [==============================] - 0s 59ms/step - loss: 0.2557 - accuracy: 0.9039 - val_loss: 0.5265 - val_accuracy: 0.8004\n",
            "Epoch 11/25\n",
            "6/6 [==============================] - 0s 59ms/step - loss: 0.2072 - accuracy: 0.9488 - val_loss: 1.0290 - val_accuracy: 0.7551\n",
            "Epoch 12/25\n",
            "6/6 [==============================] - 0s 59ms/step - loss: 0.1693 - accuracy: 0.9591 - val_loss: 0.6708 - val_accuracy: 0.8011\n",
            "Epoch 13/25\n",
            "6/6 [==============================] - 0s 60ms/step - loss: 0.1310 - accuracy: 0.9534 - val_loss: 0.6639 - val_accuracy: 0.8011\n",
            "Epoch 14/25\n",
            "6/6 [==============================] - 0s 60ms/step - loss: 0.0970 - accuracy: 0.9685 - val_loss: 1.0395 - val_accuracy: 0.7820\n",
            "Epoch 15/25\n",
            "6/6 [==============================] - 0s 60ms/step - loss: 0.0747 - accuracy: 0.9764 - val_loss: 1.0057 - val_accuracy: 0.7925\n",
            "Epoch 16/25\n",
            "6/6 [==============================] - 0s 60ms/step - loss: 0.0661 - accuracy: 0.9780 - val_loss: 1.1743 - val_accuracy: 0.7866\n",
            "Epoch 17/25\n",
            "6/6 [==============================] - 0s 58ms/step - loss: 0.0533 - accuracy: 0.9854 - val_loss: 1.3967 - val_accuracy: 0.7814\n",
            "Epoch 18/25\n",
            "6/6 [==============================] - 0s 57ms/step - loss: 0.0440 - accuracy: 0.9888 - val_loss: 1.5261 - val_accuracy: 0.7853\n",
            "Epoch 19/25\n",
            "6/6 [==============================] - 0s 58ms/step - loss: 0.0371 - accuracy: 0.9911 - val_loss: 1.6161 - val_accuracy: 0.7820\n",
            "Epoch 20/25\n",
            "6/6 [==============================] - 0s 60ms/step - loss: 0.0317 - accuracy: 0.9921 - val_loss: 1.6775 - val_accuracy: 0.7728\n",
            "Epoch 21/25\n",
            "6/6 [==============================] - 0s 61ms/step - loss: 0.0280 - accuracy: 0.9943 - val_loss: 1.7676 - val_accuracy: 0.7702\n",
            "Epoch 22/25\n",
            "6/6 [==============================] - 0s 60ms/step - loss: 0.0255 - accuracy: 0.9944 - val_loss: 1.8639 - val_accuracy: 0.7663\n"
          ]
        }
      ],
      "source": [
        "early_stopping = keras.callbacks.EarlyStopping(monitor='val_accuracy', patience=10)\n",
        "model.compile(optimizer='adam', loss=\"binary_crossentropy\", metrics=[\"accuracy\"])\n",
        "history = model.fit(x_train, y_train, validation_data=(x_val, y_val), shuffle=True, epochs=25, batch_size=1024, callbacks=[early_stopping])"
      ]
    },
    {
      "cell_type": "markdown",
      "id": "8f959c3b",
      "metadata": {
        "id": "8f959c3b"
      },
      "source": [
        "### 12. Evaluate the model and make predictions"
      ]
    },
    {
      "cell_type": "code",
      "execution_count": 25,
      "id": "d32c10fe",
      "metadata": {
        "colab": {
          "base_uri": "https://localhost:8080/"
        },
        "id": "d32c10fe",
        "outputId": "2fe89420-f31a-450d-d425-f84c2ef9dbab"
      },
      "outputs": [
        {
          "output_type": "stream",
          "name": "stdout",
          "text": [
            "48/48 [==============================] - 0s 6ms/step - loss: 1.8639 - accuracy: 0.7663\n"
          ]
        }
      ],
      "source": [
        "train_score = model.evaluate(x_val, y_val)"
      ]
    },
    {
      "cell_type": "code",
      "execution_count": 26,
      "id": "9b3b8f81",
      "metadata": {
        "colab": {
          "base_uri": "https://localhost:8080/"
        },
        "id": "9b3b8f81",
        "outputId": "08243428-d161-4d5a-952e-79268913e2b6"
      },
      "outputs": [
        {
          "output_type": "execute_result",
          "data": {
            "text/plain": [
              "array([0.5169596 , 0.77812403, 1.6287477 , ..., 0.80976707, 0.24183017,\n",
              "       1.4006257 ], dtype=float32)"
            ]
          },
          "metadata": {},
          "execution_count": 26
        }
      ],
      "source": [
        "preds = model.predict(X_test).flatten()\n",
        "preds"
      ]
    },
    {
      "cell_type": "code",
      "execution_count": 27,
      "id": "0dc0e3b2",
      "metadata": {
        "colab": {
          "base_uri": "https://localhost:8080/",
          "height": 424
        },
        "id": "0dc0e3b2",
        "outputId": "c3b00258-6e4c-402a-e6e2-0ce7bb5e21ba"
      },
      "outputs": [
        {
          "output_type": "execute_result",
          "data": {
            "text/plain": [
              "                                                   text  target      prob\n",
              "0                    Just happened a terrible car crash       0  0.516960\n",
              "1     Heard about #earthquake is different cities, s...       0  0.778124\n",
              "2     there is a forest fire at spot pond, geese are...       1  1.628748\n",
              "3              Apocalypse lighting. #Spokane #wildfires       0  0.852775\n",
              "4         Typhoon Soudelor kills 28 in China and Taiwan       3  3.253845\n",
              "...                                                 ...     ...       ...\n",
              "3258  EARTHQUAKE SAFETY LOS ANGELES ÛÒ SAFETY FASTE...       1  1.279213\n",
              "3259  Storm in RI worse than last hurricane. My city...       2  2.064404\n",
              "3260  Green Line derailment in Chicago http://t.co/U...       0  0.809767\n",
              "3261  MEG issues Hazardous Weather Outlook (HWO) htt...       0  0.241830\n",
              "3262  #CityofCalgary has activated its Municipal Eme...       1  1.400626\n",
              "\n",
              "[3263 rows x 3 columns]"
            ],
            "text/html": [
              "\n",
              "  <div id=\"df-15a6b471-fc39-4dbd-8f07-5f58ac7d59f9\">\n",
              "    <div class=\"colab-df-container\">\n",
              "      <div>\n",
              "<style scoped>\n",
              "    .dataframe tbody tr th:only-of-type {\n",
              "        vertical-align: middle;\n",
              "    }\n",
              "\n",
              "    .dataframe tbody tr th {\n",
              "        vertical-align: top;\n",
              "    }\n",
              "\n",
              "    .dataframe thead th {\n",
              "        text-align: right;\n",
              "    }\n",
              "</style>\n",
              "<table border=\"1\" class=\"dataframe\">\n",
              "  <thead>\n",
              "    <tr style=\"text-align: right;\">\n",
              "      <th></th>\n",
              "      <th>text</th>\n",
              "      <th>target</th>\n",
              "      <th>prob</th>\n",
              "    </tr>\n",
              "  </thead>\n",
              "  <tbody>\n",
              "    <tr>\n",
              "      <th>0</th>\n",
              "      <td>Just happened a terrible car crash</td>\n",
              "      <td>0</td>\n",
              "      <td>0.516960</td>\n",
              "    </tr>\n",
              "    <tr>\n",
              "      <th>1</th>\n",
              "      <td>Heard about #earthquake is different cities, s...</td>\n",
              "      <td>0</td>\n",
              "      <td>0.778124</td>\n",
              "    </tr>\n",
              "    <tr>\n",
              "      <th>2</th>\n",
              "      <td>there is a forest fire at spot pond, geese are...</td>\n",
              "      <td>1</td>\n",
              "      <td>1.628748</td>\n",
              "    </tr>\n",
              "    <tr>\n",
              "      <th>3</th>\n",
              "      <td>Apocalypse lighting. #Spokane #wildfires</td>\n",
              "      <td>0</td>\n",
              "      <td>0.852775</td>\n",
              "    </tr>\n",
              "    <tr>\n",
              "      <th>4</th>\n",
              "      <td>Typhoon Soudelor kills 28 in China and Taiwan</td>\n",
              "      <td>3</td>\n",
              "      <td>3.253845</td>\n",
              "    </tr>\n",
              "    <tr>\n",
              "      <th>...</th>\n",
              "      <td>...</td>\n",
              "      <td>...</td>\n",
              "      <td>...</td>\n",
              "    </tr>\n",
              "    <tr>\n",
              "      <th>3258</th>\n",
              "      <td>EARTHQUAKE SAFETY LOS ANGELES ÛÒ SAFETY FASTE...</td>\n",
              "      <td>1</td>\n",
              "      <td>1.279213</td>\n",
              "    </tr>\n",
              "    <tr>\n",
              "      <th>3259</th>\n",
              "      <td>Storm in RI worse than last hurricane. My city...</td>\n",
              "      <td>2</td>\n",
              "      <td>2.064404</td>\n",
              "    </tr>\n",
              "    <tr>\n",
              "      <th>3260</th>\n",
              "      <td>Green Line derailment in Chicago http://t.co/U...</td>\n",
              "      <td>0</td>\n",
              "      <td>0.809767</td>\n",
              "    </tr>\n",
              "    <tr>\n",
              "      <th>3261</th>\n",
              "      <td>MEG issues Hazardous Weather Outlook (HWO) htt...</td>\n",
              "      <td>0</td>\n",
              "      <td>0.241830</td>\n",
              "    </tr>\n",
              "    <tr>\n",
              "      <th>3262</th>\n",
              "      <td>#CityofCalgary has activated its Municipal Eme...</td>\n",
              "      <td>1</td>\n",
              "      <td>1.400626</td>\n",
              "    </tr>\n",
              "  </tbody>\n",
              "</table>\n",
              "<p>3263 rows × 3 columns</p>\n",
              "</div>\n",
              "      <button class=\"colab-df-convert\" onclick=\"convertToInteractive('df-15a6b471-fc39-4dbd-8f07-5f58ac7d59f9')\"\n",
              "              title=\"Convert this dataframe to an interactive table.\"\n",
              "              style=\"display:none;\">\n",
              "        \n",
              "  <svg xmlns=\"http://www.w3.org/2000/svg\" height=\"24px\"viewBox=\"0 0 24 24\"\n",
              "       width=\"24px\">\n",
              "    <path d=\"M0 0h24v24H0V0z\" fill=\"none\"/>\n",
              "    <path d=\"M18.56 5.44l.94 2.06.94-2.06 2.06-.94-2.06-.94-.94-2.06-.94 2.06-2.06.94zm-11 1L8.5 8.5l.94-2.06 2.06-.94-2.06-.94L8.5 2.5l-.94 2.06-2.06.94zm10 10l.94 2.06.94-2.06 2.06-.94-2.06-.94-.94-2.06-.94 2.06-2.06.94z\"/><path d=\"M17.41 7.96l-1.37-1.37c-.4-.4-.92-.59-1.43-.59-.52 0-1.04.2-1.43.59L10.3 9.45l-7.72 7.72c-.78.78-.78 2.05 0 2.83L4 21.41c.39.39.9.59 1.41.59.51 0 1.02-.2 1.41-.59l7.78-7.78 2.81-2.81c.8-.78.8-2.07 0-2.86zM5.41 20L4 18.59l7.72-7.72 1.47 1.35L5.41 20z\"/>\n",
              "  </svg>\n",
              "      </button>\n",
              "      \n",
              "  <style>\n",
              "    .colab-df-container {\n",
              "      display:flex;\n",
              "      flex-wrap:wrap;\n",
              "      gap: 12px;\n",
              "    }\n",
              "\n",
              "    .colab-df-convert {\n",
              "      background-color: #E8F0FE;\n",
              "      border: none;\n",
              "      border-radius: 50%;\n",
              "      cursor: pointer;\n",
              "      display: none;\n",
              "      fill: #1967D2;\n",
              "      height: 32px;\n",
              "      padding: 0 0 0 0;\n",
              "      width: 32px;\n",
              "    }\n",
              "\n",
              "    .colab-df-convert:hover {\n",
              "      background-color: #E2EBFA;\n",
              "      box-shadow: 0px 1px 2px rgba(60, 64, 67, 0.3), 0px 1px 3px 1px rgba(60, 64, 67, 0.15);\n",
              "      fill: #174EA6;\n",
              "    }\n",
              "\n",
              "    [theme=dark] .colab-df-convert {\n",
              "      background-color: #3B4455;\n",
              "      fill: #D2E3FC;\n",
              "    }\n",
              "\n",
              "    [theme=dark] .colab-df-convert:hover {\n",
              "      background-color: #434B5C;\n",
              "      box-shadow: 0px 1px 3px 1px rgba(0, 0, 0, 0.15);\n",
              "      filter: drop-shadow(0px 1px 2px rgba(0, 0, 0, 0.3));\n",
              "      fill: #FFFFFF;\n",
              "    }\n",
              "  </style>\n",
              "\n",
              "      <script>\n",
              "        const buttonEl =\n",
              "          document.querySelector('#df-15a6b471-fc39-4dbd-8f07-5f58ac7d59f9 button.colab-df-convert');\n",
              "        buttonEl.style.display =\n",
              "          google.colab.kernel.accessAllowed ? 'block' : 'none';\n",
              "\n",
              "        async function convertToInteractive(key) {\n",
              "          const element = document.querySelector('#df-15a6b471-fc39-4dbd-8f07-5f58ac7d59f9');\n",
              "          const dataTable =\n",
              "            await google.colab.kernel.invokeFunction('convertToInteractive',\n",
              "                                                     [key], {});\n",
              "          if (!dataTable) return;\n",
              "\n",
              "          const docLinkHtml = 'Like what you see? Visit the ' +\n",
              "            '<a target=\"_blank\" href=https://colab.research.google.com/notebooks/data_table.ipynb>data table notebook</a>'\n",
              "            + ' to learn more about interactive tables.';\n",
              "          element.innerHTML = '';\n",
              "          dataTable['output_type'] = 'display_data';\n",
              "          await google.colab.output.renderOutput(dataTable, element);\n",
              "          const docLink = document.createElement('div');\n",
              "          docLink.innerHTML = docLinkHtml;\n",
              "          element.appendChild(docLink);\n",
              "        }\n",
              "      </script>\n",
              "    </div>\n",
              "  </div>\n",
              "  "
            ]
          },
          "metadata": {},
          "execution_count": 27
        }
      ],
      "source": [
        "results = {'text':twitts_test, 'target':preds.astype('int32'), \"prob\": preds}\n",
        "df_results = pd.DataFrame(results)\n",
        "df_results"
      ]
    },
    {
      "cell_type": "markdown",
      "source": [
        "### 13. Evaluate the results with charts of acc and loss"
      ],
      "metadata": {
        "id": "AJL6_P37mVrn"
      },
      "id": "AJL6_P37mVrn"
    },
    {
      "cell_type": "code",
      "execution_count": 28,
      "id": "80f782bb",
      "metadata": {
        "colab": {
          "base_uri": "https://localhost:8080/",
          "height": 573
        },
        "id": "80f782bb",
        "outputId": "a2230286-7621-494a-abee-3cc670255a56"
      },
      "outputs": [
        {
          "output_type": "display_data",
          "data": {
            "text/plain": [
              "<Figure size 432x288 with 1 Axes>"
            ],
            "image/png": "[encoded data removed]"
          },
          "metadata": {
            "needs_background": "light"
          }
        },
        {
          "output_type": "display_data",
          "data": {
            "text/plain": [
              "<Figure size 432x288 with 1 Axes>"
            ],
            "image/png": "[encoded data removed]"
          },
          "metadata": {
            "needs_background": "light"
          }
        }
      ],
      "source": [
        "def plot_history(loss_hist, metric_hist):\n",
        "    num_epochs= len(loss_hist[\"train\"])\n",
        "\n",
        "    plt.title(\"Train-Val Loss\")\n",
        "    plt.plot(range(1,num_epochs+1), loss_hist[\"train\"], label=\"train\")\n",
        "    plt.plot(range(1,num_epochs+1), loss_hist[\"val\"], label=\"val\")\n",
        "    plt.ylabel(\"Loss\")\n",
        "    plt.xlabel(\"Training Epochs\")\n",
        "    plt.legend()\n",
        "    plt.show()\n",
        "\n",
        "    plt.title(\"Train-Val Accuracy\")\n",
        "    plt.plot(range(1,num_epochs+1), metric_hist[\"train\"],label=\"train\")\n",
        "    plt.plot(range(1,num_epochs+1), metric_hist[\"val\"],label=\"val\")\n",
        "    plt.ylabel(\"Accuracy\")\n",
        "    plt.xlabel(\"Training Epochs\")\n",
        "    plt.legend()\n",
        "    plt.show()\n",
        "\n",
        "loss_hist = {\n",
        "    \"train\": history.history['loss'],\n",
        "    \"val\": history.history['val_loss'],\n",
        "}\n",
        "\n",
        "metric_hist = {\n",
        "    \"train\": history.history[\"accuracy\"],\n",
        "    \"val\": history.history[\"val_accuracy\"]\n",
        "}\n",
        "\n",
        "plot_history(loss_hist, metric_hist)"
      ]
    },
    {
      "cell_type": "markdown",
      "source": [
        "### 14. Save your model"
      ],
      "metadata": {
        "id": "B7L_6OdomKge"
      },
      "id": "B7L_6OdomKge"
    },
    {
      "cell_type": "code",
      "source": [
        "model.save(\"/content/drive/MyDrive/AMIT Graduation Project/model.h5\")"
      ],
      "metadata": {
        "id": "dgj4Wp3pmewu"
      },
      "id": "dgj4Wp3pmewu",
      "execution_count": 29,
      "outputs": []
    },
    {
      "cell_type": "code",
      "source": [
        ""
      ],
      "metadata": {
        "id": "bro2fdgFmoUO"
      },
      "id": "bro2fdgFmoUO",
      "execution_count": null,
      "outputs": []
    }
  ],
  "metadata": {
    "kernelspec": {
      "display_name": "Python 3 (ipykernel)",
      "language": "python",
      "name": "python3"
    },
    "language_info": {
      "codemirror_mode": {
        "name": "ipython",
        "version": 3
      },
      "file_extension": ".py",
      "mimetype": "text/x-python",
      "name": "python",
      "nbconvert_exporter": "python",
      "pygments_lexer": "ipython3",
      "version": "3.8.0"
    },
    "colab": {
      "name": "Final project.ipynb",
      "provenance": [],
      "collapsed_sections": [],
      "machine_shape": "hm"
    },
    "accelerator": "GPU"
  },
  "nbformat": 4,
  "nbformat_minor": 5
}